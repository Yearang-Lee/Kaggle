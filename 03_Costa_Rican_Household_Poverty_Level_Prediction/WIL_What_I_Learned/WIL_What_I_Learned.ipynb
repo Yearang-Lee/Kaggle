{
 "cells": [
  {
   "cell_type": "markdown",
   "metadata": {},
   "source": [
    "## [[[01]]]"
   ]
  },
  {
   "cell_type": "markdown",
   "metadata": {},
   "source": [
    "1_2) Float Columns 부분"
   ]
  },
  {
   "cell_type": "markdown",
   "metadata": {},
   "source": [
    "## OrderedDict\n",
    " : 기본 딕셔너리(dictionary)와 거의 비슷하지만, 입력된 아이템들(items)의 **순서를 기억하는 Dictionary** 클래스\n",
    " - 아이템들(items)의 입력(또는 삽입) 순서를 기억하기 때문에 sorted()함수를 사용하여 정렬된 딕셔너리(sorted dictionary)를 만들때 사용할 수 있다"
   ]
  },
  {
   "cell_type": "markdown",
   "metadata": {},
   "source": [
    "http://pyengine.blogspot.com/2018/01/python-dictionary-ordereddict.html"
   ]
  },
  {
   "cell_type": "code",
   "execution_count": 22,
   "metadata": {},
   "outputs": [
    {
     "name": "stdout",
     "output_type": "stream",
     "text": [
      "a 1\n",
      "b 2\n",
      "c 3\n",
      "d 4\n",
      "e 5\n",
      "f 6\n",
      "g 7\n"
     ]
    }
   ],
   "source": [
    "# 사전형인 dictionary는 저장된 키(key)의 순서대로 값을 순환하지 않는다.(순서대로 할 때도 있지만)\n",
    "d1 = {}\n",
    "d1['a'] = 1\n",
    "d1['b'] = 2\n",
    "d1['c'] = 3\n",
    "d1['d'] = 4\n",
    "d1['e'] = 5\n",
    "d1['f'] = 6\n",
    "d1['g'] = 7\n",
    "for i,j in d1.items():\n",
    "    print(i,j)"
   ]
  },
  {
   "cell_type": "code",
   "execution_count": 23,
   "metadata": {},
   "outputs": [
    {
     "name": "stdout",
     "output_type": "stream",
     "text": [
      "a 1\n",
      "b 2\n",
      "c 3\n",
      "d 4\n",
      "e 5\n",
      "f 6\n",
      "g 7\n"
     ]
    }
   ],
   "source": [
    "from collections import OrderedDict\n",
    "d2 = OrderedDict()\n",
    "d2['a'] = 1\n",
    "d2['b'] = 2\n",
    "d2['c'] = 3\n",
    "d2['d'] = 4\n",
    "d2['e'] = 5\n",
    "d2['f'] = 6\n",
    "d2['g'] = 7\n",
    "for i,j in d2.items():\n",
    "    print(i,j)"
   ]
  },
  {
   "cell_type": "markdown",
   "metadata": {},
   "source": [
    "## nunique \n",
    ": 고유값의 개수"
   ]
  },
  {
   "cell_type": "code",
   "execution_count": 9,
   "metadata": {},
   "outputs": [
    {
     "data": {
      "text/html": [
       "<div>\n",
       "<style scoped>\n",
       "    .dataframe tbody tr th:only-of-type {\n",
       "        vertical-align: middle;\n",
       "    }\n",
       "\n",
       "    .dataframe tbody tr th {\n",
       "        vertical-align: top;\n",
       "    }\n",
       "\n",
       "    .dataframe thead th {\n",
       "        text-align: right;\n",
       "    }\n",
       "</style>\n",
       "<table border=\"1\" class=\"dataframe\">\n",
       "  <thead>\n",
       "    <tr style=\"text-align: right;\">\n",
       "      <th></th>\n",
       "      <th>A</th>\n",
       "      <th>B</th>\n",
       "      <th>C</th>\n",
       "    </tr>\n",
       "  </thead>\n",
       "  <tbody>\n",
       "    <tr>\n",
       "      <td>0</td>\n",
       "      <td>가</td>\n",
       "      <td>a</td>\n",
       "      <td>0</td>\n",
       "    </tr>\n",
       "    <tr>\n",
       "      <td>1</td>\n",
       "      <td>가</td>\n",
       "      <td>a</td>\n",
       "      <td>1</td>\n",
       "    </tr>\n",
       "    <tr>\n",
       "      <td>2</td>\n",
       "      <td>가</td>\n",
       "      <td>a</td>\n",
       "      <td>2</td>\n",
       "    </tr>\n",
       "  </tbody>\n",
       "</table>\n",
       "</div>"
      ],
      "text/plain": [
       "   A  B  C\n",
       "0  가  a  0\n",
       "1  가  a  1\n",
       "2  가  a  2"
      ]
     },
     "execution_count": 9,
     "metadata": {},
     "output_type": "execute_result"
    }
   ],
   "source": [
    "import pandas as pd\n",
    "df = pd.DataFrame({'A':['가','가','가'],'B':['a','a','a'], 'C':[0, 1, 2]})\n",
    "df"
   ]
  },
  {
   "cell_type": "code",
   "execution_count": 10,
   "metadata": {},
   "outputs": [
    {
     "data": {
      "text/plain": [
       "A    1\n",
       "B    1\n",
       "C    3\n",
       "dtype: int64"
      ]
     },
     "execution_count": 10,
     "metadata": {},
     "output_type": "execute_result"
    }
   ],
   "source": [
    "df.nunique()"
   ]
  },
  {
   "cell_type": "code",
   "execution_count": 11,
   "metadata": {},
   "outputs": [
    {
     "data": {
      "text/plain": [
       "1    2\n",
       "3    1\n",
       "dtype: int64"
      ]
     },
     "execution_count": 11,
     "metadata": {},
     "output_type": "execute_result"
    }
   ],
   "source": [
    "df.nunique().value_counts()"
   ]
  },
  {
   "cell_type": "code",
   "execution_count": 12,
   "metadata": {},
   "outputs": [
    {
     "data": {
      "text/plain": [
       "A     True\n",
       "B     True\n",
       "C    False\n",
       "dtype: bool"
      ]
     },
     "execution_count": 12,
     "metadata": {},
     "output_type": "execute_result"
    }
   ],
   "source": [
    "df.nunique() == 1"
   ]
  },
  {
   "cell_type": "markdown",
   "metadata": {},
   "source": [
    "5_3)  Household Level Variables 부분"
   ]
  },
  {
   "cell_type": "markdown",
   "metadata": {},
   "source": [
    "## np.triu\n",
    ": 행렬의 상삼각 (Upper-triangular) 행렬 구하기"
   ]
  },
  {
   "cell_type": "code",
   "execution_count": 1,
   "metadata": {},
   "outputs": [
    {
     "name": "stdout",
     "output_type": "stream",
     "text": [
      "[[ 1  2  3]\n",
      " [ 4  5  6]\n",
      " [ 7  8  9]\n",
      " [10 11 12]]\n"
     ]
    }
   ],
   "source": [
    "import numpy as np\n",
    "a = np.matrix([[1,2,3],[4,5,6],[7,8,9],[10,11,12]])\n",
    "print(a)"
   ]
  },
  {
   "cell_type": "code",
   "execution_count": 19,
   "metadata": {},
   "outputs": [
    {
     "name": "stdout",
     "output_type": "stream",
     "text": [
      "[[0 2 3]\n",
      " [0 0 6]\n",
      " [0 0 0]\n",
      " [0 0 0]]\n"
     ]
    }
   ],
   "source": [
    "n = np.triu(a, 1)\n",
    "print(n)"
   ]
  },
  {
   "cell_type": "code",
   "execution_count": 20,
   "metadata": {},
   "outputs": [
    {
     "name": "stdout",
     "output_type": "stream",
     "text": [
      "[[ 1  2  3]\n",
      " [ 4  5  6]\n",
      " [ 0  8  9]\n",
      " [ 0  0 12]]\n"
     ]
    }
   ],
   "source": [
    "n = np.triu(a, -1)\n",
    "print(n)"
   ]
  },
  {
   "cell_type": "code",
   "execution_count": 21,
   "metadata": {},
   "outputs": [
    {
     "name": "stdout",
     "output_type": "stream",
     "text": [
      "[[1 2 3]\n",
      " [0 5 6]\n",
      " [0 0 9]\n",
      " [0 0 0]]\n"
     ]
    }
   ],
   "source": [
    "n = np.triu(a, 0)\n",
    "print(n)"
   ]
  },
  {
   "cell_type": "markdown",
   "metadata": {},
   "source": [
    "## np.argmax(a, axis)\n",
    ": axis에 해당하는 값들 중 가장 큰 값의 인덱스들을 반환하는 함수"
   ]
  },
  {
   "cell_type": "code",
   "execution_count": 13,
   "metadata": {},
   "outputs": [
    {
     "data": {
      "text/plain": [
       "array([[0, 1, 2],\n",
       "       [3, 4, 5]])"
      ]
     },
     "execution_count": 13,
     "metadata": {},
     "output_type": "execute_result"
    }
   ],
   "source": [
    "import numpy as np\n",
    "a = np.arange(6).reshape(2,3)\n",
    "a"
   ]
  },
  {
   "cell_type": "code",
   "execution_count": 14,
   "metadata": {},
   "outputs": [
    {
     "data": {
      "text/plain": [
       "5"
      ]
     },
     "execution_count": 14,
     "metadata": {},
     "output_type": "execute_result"
    }
   ],
   "source": [
    "np.argmax(a)"
   ]
  },
  {
   "cell_type": "code",
   "execution_count": 15,
   "metadata": {},
   "outputs": [
    {
     "data": {
      "text/plain": [
       "array([2, 2], dtype=int64)"
      ]
     },
     "execution_count": 15,
     "metadata": {},
     "output_type": "execute_result"
    }
   ],
   "source": [
    "np.argmax(a, axis=1) # 행"
   ]
  },
  {
   "cell_type": "code",
   "execution_count": 16,
   "metadata": {},
   "outputs": [
    {
     "data": {
      "text/plain": [
       "array([1, 1, 1], dtype=int64)"
      ]
     },
     "execution_count": 16,
     "metadata": {},
     "output_type": "execute_result"
    }
   ],
   "source": [
    "np.argmax(a, axis=0) # 열"
   ]
  },
  {
   "cell_type": "markdown",
   "metadata": {},
   "source": [
    "https://gomguard.tistory.com/145"
   ]
  },
  {
   "cell_type": "markdown",
   "metadata": {},
   "source": [
    "6. Machine Learning Modeling 부분"
   ]
  },
  {
   "cell_type": "markdown",
   "metadata": {},
   "source": [
    "## Pipeline\n",
    ": 전처리용 객체는 파이프라인(pipeline) 기능을 이용하여 분류 모형과 합칠 수 있다."
   ]
  },
  {
   "cell_type": "markdown",
   "metadata": {},
   "source": [
    "scikit-learn의 전처리 기능 : https://datascienceschool.net/view-notebook/f43be7d6515b48c0beb909826993c856/"
   ]
  },
  {
   "cell_type": "markdown",
   "metadata": {},
   "source": [
    "파이프라인으로 결합된 모형은 원래의 모형이 가지는 fit, predict 메서드를 가지며 각 메서드가 호출되면 그에 따른 적절한 메서드를 파이프라인의 각 객체에 대해서 호출한다. \n",
    "\n",
    "예를 들어\n",
    "- 파이프라인에 대해 fit 메서드를 호출하면 \n",
    "  - 전처리 객체에는 fit_transform이 내부적으로 호출\n",
    "  - 분류 모형에서는 fit 메서드가 호출 \n",
    "- 파이프라인에 대해 predict 메서드를 호출하면 \n",
    "  - 전처리 객체에는 transform이 내부적으로 호출\n",
    "  - 분류 모형에서는 predict 메서드가 호출\n",
    "\n"
   ]
  },
  {
   "cell_type": "markdown",
   "metadata": {},
   "source": [
    "6_1) Feature Importances 부분"
   ]
  },
  {
   "cell_type": "markdown",
   "metadata": {},
   "source": [
    "## np.cumsum \n",
    ": 배열에서 주어진 축에 따라 누적되는 원소들의 누적 합을 계산하는 함수"
   ]
  },
  {
   "cell_type": "code",
   "execution_count": 18,
   "metadata": {},
   "outputs": [
    {
     "name": "stdout",
     "output_type": "stream",
     "text": [
      "[[1 2 3]\n",
      " [4 5 6]]\n"
     ]
    }
   ],
   "source": [
    "import numpy as np\n",
    "\n",
    "a = np.array([[1, 2, 3], [4, 5, 6]])\n",
    "print(a)"
   ]
  },
  {
   "cell_type": "code",
   "execution_count": 19,
   "metadata": {},
   "outputs": [
    {
     "data": {
      "text/plain": [
       "array([ 1,  3,  6, 10, 15, 21], dtype=int32)"
      ]
     },
     "execution_count": 19,
     "metadata": {},
     "output_type": "execute_result"
    }
   ],
   "source": [
    "np.cumsum(a)"
   ]
  },
  {
   "cell_type": "code",
   "execution_count": 20,
   "metadata": {},
   "outputs": [
    {
     "data": {
      "text/plain": [
       "array([[1, 2, 3],\n",
       "       [5, 7, 9]], dtype=int32)"
      ]
     },
     "execution_count": 20,
     "metadata": {},
     "output_type": "execute_result"
    }
   ],
   "source": [
    "# 열 기준 누적 합\n",
    "np.cumsum(a, axis = 0)"
   ]
  },
  {
   "cell_type": "code",
   "execution_count": 21,
   "metadata": {},
   "outputs": [
    {
     "data": {
      "text/plain": [
       "array([[ 1,  3,  6],\n",
       "       [ 4,  9, 15]], dtype=int32)"
      ]
     },
     "execution_count": 21,
     "metadata": {},
     "output_type": "execute_result"
    }
   ],
   "source": [
    "# 행 기준 누적 합\n",
    "np.cumsum(a, axis = 1)"
   ]
  },
  {
   "cell_type": "markdown",
   "metadata": {},
   "source": [
    "6_2) Model Selection 부분"
   ]
  },
  {
   "cell_type": "markdown",
   "metadata": {},
   "source": [
    "## warnings\n",
    ":경고 메세지 숨기기"
   ]
  },
  {
   "cell_type": "markdown",
   "metadata": {},
   "source": [
    "1. 경고 메시지를 무시하고 숨기기 (Ignore warning message)\n",
    "\n",
    "    : warnings.filterwarnings(action='ignore')\n",
    "\n",
    "\n",
    "2. 숨기기했던 경고 메시지를 다시 보이게 하기 (Reset to default)\n",
    "\n",
    "    : warnings.filterwarnings(action='default')\n"
   ]
  },
  {
   "cell_type": "markdown",
   "metadata": {},
   "source": [
    "## cross_val_score\n",
    ": 교차검증을 반복하는 코드를 더 간단하게 만들어주는 함수"
   ]
  },
  {
   "cell_type": "markdown",
   "metadata": {},
   "source": [
    "cross_val_score(model, X, y, scoring=None, cv=None)\n",
    "- model : 회귀 분석 모형\n",
    "- X : 독립 변수 데이터\n",
    "- y : 종속 변수 데이터\n",
    "- scoring : 성능 검증에 사용할 함수 이름\n",
    "- cv : 교차검증 생성기 객체 또는 숫자.\n",
    "   - None이면 KFold(3)\n",
    "   - 숫자 k이면 KFold(k)"
   ]
  },
  {
   "cell_type": "markdown",
   "metadata": {},
   "source": [
    "8. Feature Selection 부분"
   ]
  },
  {
   "cell_type": "markdown",
   "metadata": {},
   "source": [
    "## RFECV\n",
    ": sklearn.feature_selection.RFECV"
   ]
  },
  {
   "cell_type": "markdown",
   "metadata": {},
   "source": [
    "- Recursive Feature Elimination with Cross Validation\n",
    "- Feature Importance가 작은 순으로 Feature를 제거하면서 Cross Validation score 측정(교차 검정 성능)\n",
    "- CV를 사용해, 재귀적으로 특성 제거"
   ]
  },
  {
   "cell_type": "code",
   "execution_count": 24,
   "metadata": {},
   "outputs": [],
   "source": [
    "from sklearn.datasets import make_friedman1\n",
    "from sklearn.feature_selection import RFECV\n",
    "from sklearn.svm import SVR\n",
    "X, y = make_friedman1(n_samples=50, n_features=10, random_state=0)"
   ]
  },
  {
   "cell_type": "code",
   "execution_count": 25,
   "metadata": {},
   "outputs": [],
   "source": [
    "estimator = SVR(kernel=\"linear\")"
   ]
  },
  {
   "cell_type": "code",
   "execution_count": 26,
   "metadata": {},
   "outputs": [],
   "source": [
    "selector = RFECV(estimator, step=1, cv=5)"
   ]
  },
  {
   "cell_type": "code",
   "execution_count": 27,
   "metadata": {},
   "outputs": [],
   "source": [
    "selector = selector.fit(X, y)"
   ]
  },
  {
   "cell_type": "code",
   "execution_count": 28,
   "metadata": {},
   "outputs": [
    {
     "data": {
      "text/plain": [
       "array([ True,  True,  True,  True,  True, False, False, False, False,\n",
       "       False])"
      ]
     },
     "execution_count": 28,
     "metadata": {},
     "output_type": "execute_result"
    }
   ],
   "source": [
    "selector.support_"
   ]
  },
  {
   "cell_type": "code",
   "execution_count": 29,
   "metadata": {},
   "outputs": [
    {
     "data": {
      "text/plain": [
       "array([1, 1, 1, 1, 1, 6, 4, 3, 2, 5])"
      ]
     },
     "execution_count": 29,
     "metadata": {},
     "output_type": "execute_result"
    }
   ],
   "source": [
    "selector.ranking_"
   ]
  },
  {
   "cell_type": "code",
   "execution_count": 30,
   "metadata": {},
   "outputs": [
    {
     "data": {
      "text/plain": [
       "array([[0.5488135 , 0.71518937, 0.60276338, 0.54488318, 0.4236548 ],\n",
       "       [0.79172504, 0.52889492, 0.56804456, 0.92559664, 0.07103606],\n",
       "       [0.97861834, 0.79915856, 0.46147936, 0.78052918, 0.11827443],\n",
       "       [0.26455561, 0.77423369, 0.45615033, 0.56843395, 0.0187898 ],\n",
       "       [0.3595079 , 0.43703195, 0.6976312 , 0.06022547, 0.66676672],\n",
       "       [0.57019677, 0.43860151, 0.98837384, 0.10204481, 0.20887676],\n",
       "       [0.15896958, 0.11037514, 0.65632959, 0.13818295, 0.19658236],\n",
       "       [0.97645947, 0.4686512 , 0.97676109, 0.60484552, 0.73926358],\n",
       "       [0.31798318, 0.41426299, 0.0641475 , 0.69247212, 0.56660145],\n",
       "       [0.31856895, 0.66741038, 0.13179786, 0.7163272 , 0.28940609],\n",
       "       [0.67781654, 0.27000797, 0.73519402, 0.96218855, 0.24875314],\n",
       "       [0.44712538, 0.84640867, 0.69947928, 0.29743695, 0.81379782],\n",
       "       [0.72525428, 0.50132438, 0.95608363, 0.6439902 , 0.42385505],\n",
       "       [0.61801543, 0.4287687 , 0.13547406, 0.29828233, 0.56996491],\n",
       "       [0.8965466 , 0.36756187, 0.43586493, 0.89192336, 0.80619399],\n",
       "       [0.1494483 , 0.86812606, 0.16249293, 0.61555956, 0.12381998],\n",
       "       [0.69742877, 0.45354268, 0.7220556 , 0.86638233, 0.97552151],\n",
       "       [0.52103661, 0.05433799, 0.19999652, 0.01852179, 0.7936977 ],\n",
       "       [0.16469416, 0.6214784 , 0.57722859, 0.23789282, 0.934214  ],\n",
       "       [0.39822106, 0.20984375, 0.18619301, 0.94437239, 0.7395508 ],\n",
       "       [0.31179588, 0.69634349, 0.37775184, 0.17960368, 0.02467873],\n",
       "       [0.99033895, 0.21689698, 0.6630782 , 0.26332238, 0.020651  ],\n",
       "       [0.62898184, 0.87265066, 0.27354203, 0.79804683, 0.18563594],\n",
       "       [0.25394164, 0.21331198, 0.51820071, 0.02566272, 0.20747008],\n",
       "       [0.86385561, 0.11753186, 0.51737911, 0.13206811, 0.71685968],\n",
       "       [0.35561274, 0.94043195, 0.76532525, 0.74866362, 0.90371974],\n",
       "       [0.24082878, 0.10029394, 0.01642963, 0.92952932, 0.66991655],\n",
       "       [0.97749514, 0.87650525, 0.33815895, 0.96157015, 0.23170163],\n",
       "       [0.29302028, 0.84894356, 0.61787669, 0.01323686, 0.34723352],\n",
       "       [0.36858461, 0.13690027, 0.82211773, 0.18984791, 0.51131898],\n",
       "       [0.9065555 , 0.77404733, 0.33314515, 0.08110139, 0.40724117],\n",
       "       [0.77058075, 0.14694665, 0.07952208, 0.08960303, 0.67204781],\n",
       "       [0.27032791, 0.1314828 , 0.05537432, 0.30159863, 0.26211815],\n",
       "       [0.18115096, 0.78854551, 0.05684808, 0.69699724, 0.7786954 ],\n",
       "       [0.3708528 , 0.19705428, 0.45985588, 0.0446123 , 0.79979588],\n",
       "       [0.64557024, 0.03536244, 0.43040244, 0.51001685, 0.53617749],\n",
       "       [0.18713089, 0.90398395, 0.54380595, 0.45691142, 0.88204141],\n",
       "       [0.69962205, 0.3277204 , 0.75677864, 0.63606106, 0.24002027],\n",
       "       [0.85772264, 0.45722345, 0.95187448, 0.57575116, 0.82076712],\n",
       "       [0.06271295, 0.42403225, 0.25868407, 0.84903831, 0.03330463],\n",
       "       [0.4012595 , 0.92929142, 0.09961493, 0.94530153, 0.86948853],\n",
       "       [0.01560606, 0.42879572, 0.06807407, 0.25194099, 0.22116092],\n",
       "       [0.97425621, 0.990345  , 0.4090541 , 0.16295443, 0.63876176],\n",
       "       [0.24141862, 0.66250457, 0.24606318, 0.66585912, 0.51730852],\n",
       "       [0.36054556, 0.82865691, 0.92496691, 0.04600731, 0.23262699],\n",
       "       [0.29655627, 0.99201124, 0.24942004, 0.10590615, 0.95095261],\n",
       "       [0.2724369 , 0.3790569 , 0.37429618, 0.74878826, 0.23780724],\n",
       "       [0.50238946, 0.9425836 , 0.6339977 , 0.86728941, 0.94020969],\n",
       "       [0.07086978, 0.29279403, 0.15235471, 0.41748637, 0.13128933],\n",
       "       [0.27482357, 0.59223042, 0.89676116, 0.40673335, 0.55207828]])"
      ]
     },
     "execution_count": 30,
     "metadata": {},
     "output_type": "execute_result"
    }
   ],
   "source": [
    "# 선택한 features 로 X 축소\n",
    "selector.transform(X)\n",
    "\n",
    "# array of shape [n_samples, n_selected_features]"
   ]
  },
  {
   "cell_type": "markdown",
   "metadata": {},
   "source": [
    "https://scikit-learn.org/stable/modules/generated/sklearn.feature_selection.RFECV.html"
   ]
  },
  {
   "cell_type": "markdown",
   "metadata": {},
   "source": [
    "10. Model Optimization부분"
   ]
  },
  {
   "cell_type": "markdown",
   "metadata": {},
   "source": [
    "## hyperopt \n",
    ": 오픈 소스 하이퍼 매개 변수 튜닝 라이브러리\n",
    "\n",
    "\n",
    "\n",
    "\n",
    " 입력 매개 변수 세트에 대한 스칼라 반환 목표 함수를 해당 함수에 최적화하는 것"
   ]
  },
  {
   "cell_type": "markdown",
   "metadata": {},
   "source": [
    "## [[[03]]]"
   ]
  },
  {
   "cell_type": "markdown",
   "metadata": {},
   "source": [
    "## clone\n",
    ": 데이터까지 복사하는 것이 아니라 model만 복사하는 함수"
   ]
  },
  {
   "cell_type": "markdown",
   "metadata": {},
   "source": [
    "from sklearn.base import clone\n",
    "\n",
    "sklearn.base.clone(estimator, safe=True)"
   ]
  },
  {
   "cell_type": "markdown",
   "metadata": {},
   "source": [
    "- estimator : estimator object, or list, tuple or set of objects\n",
    "- safe : boolean, optional"
   ]
  },
  {
   "cell_type": "markdown",
   "metadata": {},
   "source": [
    "## np.isin()\n",
    ": Series나 DataFrame 안에서 isin()메서드에 입력된 데이터가 있는지 판별해준다."
   ]
  },
  {
   "cell_type": "code",
   "execution_count": 8,
   "metadata": {},
   "outputs": [],
   "source": [
    "import numpy as np \n",
    "\n",
    "a = np.array([1, 2, 3, 4, 5]) \n",
    "b = [1, 3, 5] "
   ]
  },
  {
   "cell_type": "code",
   "execution_count": 9,
   "metadata": {},
   "outputs": [
    {
     "name": "stdout",
     "output_type": "stream",
     "text": [
      "[ True False  True False  True]\n"
     ]
    }
   ],
   "source": [
    "c = np.isin(a, b) \n",
    "  \n",
    "print(c) "
   ]
  },
  {
   "cell_type": "code",
   "execution_count": 10,
   "metadata": {},
   "outputs": [],
   "source": [
    "a = np.array([[1, 3], [5, 7], [9, 11]]) \n",
    "b = [1, 3, 11, 9] "
   ]
  },
  {
   "cell_type": "code",
   "execution_count": 11,
   "metadata": {},
   "outputs": [
    {
     "name": "stdout",
     "output_type": "stream",
     "text": [
      "[[ True  True]\n",
      " [False False]\n",
      " [ True  True]]\n"
     ]
    }
   ],
   "source": [
    "c = np.isin(a, b) \n",
    "\n",
    "print(c) "
   ]
  }
 ],
 "metadata": {
  "kernelspec": {
   "display_name": "Python 3",
   "language": "python",
   "name": "python3"
  },
  "language_info": {
   "codemirror_mode": {
    "name": "ipython",
    "version": 3
   },
   "file_extension": ".py",
   "mimetype": "text/x-python",
   "name": "python",
   "nbconvert_exporter": "python",
   "pygments_lexer": "ipython3",
   "version": "3.7.4"
  }
 },
 "nbformat": 4,
 "nbformat_minor": 2
}
